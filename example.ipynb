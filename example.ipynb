{
 "cells": [
  {
   "cell_type": "code",
   "execution_count": 3,
   "metadata": {},
   "outputs": [
    {
     "name": "stdout",
     "output_type": "stream",
     "text": [
      "\n",
      "ply\n",
      "format ascii 1.0\n",
      "comment VCGLIB generated\n",
      "element vertex 21\n",
      "property float x\n",
      "property float y\n",
      "property float z\n",
      "element edge 20                        \n",
      "property int vertex1                  \n",
      "property int vertex2\n",
      "end_header\n",
      "        \n",
      "35.9132538 168.612534 116.596039\n",
      "7.63377714 132.244965 97.3752594\n",
      "-17.1021042 111.684235 86.0658569\n",
      "-33.851059 106.871048 82.8839264\n",
      "53.6757507 149.244339 61.0547371\n",
      "27.5827065 137.559509 40.099102\n",
      "12.1351233 130.891052 0.568459213\n",
      "3.44889998 123.058754 -20.5836754\n",
      "-1.68075347 117.853134 -31.2637157\n",
      "49.2181473 141.134644 37.1231117\n",
      "43.7520027 133.780197 -10.1982565\n",
      "40.1115303 124.69252 -36.8963814\n",
      "37.9320564 119.040787 -49.7129326\n",
      "71.1811218 145.844818 40.9556122\n",
      "75.1204987 137.602173 -2.7800324\n",
      "77.0320969 126.515182 -28.0945606\n",
      "77.4164658 119.449471 -40.1772537\n",
      "91.1662521 147.340469 48.4945297\n",
      "104.103027 138.914871 16.6838074\n",
      "110.323257 129.622986 0.636486173\n",
      "113.671417 122.17263 -9.2707777\n",
      "0 1\n",
      "1 2\n",
      "2 3\n",
      "0 4\n",
      "4 5\n",
      "5 6\n",
      "6 7\n",
      "7 8\n",
      "4 9\n",
      "9 10\n",
      "10 11\n",
      "11 12\n",
      "4 13\n",
      "13 14\n",
      "14 15\n",
      "15 16\n",
      "4 17\n",
      "17 18\n",
      "18 19\n",
      "19 20\n"
     ]
    }
   ],
   "source": [
    "from skeleton import *\n",
    "reference_skeleton.to_poly()"
   ]
  }
 ],
 "metadata": {
  "kernelspec": {
   "display_name": "Python 3",
   "language": "python",
   "name": "python3"
  },
  "language_info": {
   "codemirror_mode": {
    "name": "ipython",
    "version": 3
   },
   "file_extension": ".py",
   "mimetype": "text/x-python",
   "name": "python",
   "nbconvert_exporter": "python",
   "pygments_lexer": "ipython3",
   "version": "3.8.5"
  }
 },
 "nbformat": 4,
 "nbformat_minor": 4
}
